{
 "cells": [
  {
   "cell_type": "code",
   "execution_count": 1,
   "id": "14750c7c",
   "metadata": {
    "scrolled": true
   },
   "outputs": [
    {
     "name": "stdout",
     "output_type": "stream",
     "text": [
      "Requirement already satisfied: Augmentor in c:\\anaconda\\lib\\site-packages (0.2.10)\n",
      "Requirement already satisfied: tqdm>=4.9.0 in c:\\anaconda\\lib\\site-packages (from Augmentor) (4.64.0)\n",
      "Requirement already satisfied: numpy>=1.11.0 in c:\\anaconda\\lib\\site-packages (from Augmentor) (1.21.5)\n",
      "Requirement already satisfied: future>=0.16.0 in c:\\anaconda\\lib\\site-packages (from Augmentor) (0.18.2)\n",
      "Requirement already satisfied: Pillow>=5.2.0 in c:\\anaconda\\lib\\site-packages (from Augmentor) (9.0.1)\n",
      "Requirement already satisfied: colorama in c:\\anaconda\\lib\\site-packages (from tqdm>=4.9.0->Augmentor) (0.4.4)\n",
      "Note: you may need to restart the kernel to use updated packages.\n"
     ]
    }
   ],
   "source": [
    "pip install Augmentor"
   ]
  },
  {
   "cell_type": "markdown",
   "id": "cdbabd67",
   "metadata": {},
   "source": [
    "# Augmenting 60 speed sign board (3) using Augmentor"
   ]
  },
  {
   "cell_type": "code",
   "execution_count": 3,
   "id": "4f626397",
   "metadata": {},
   "outputs": [],
   "source": [
    "import Augmentor"
   ]
  },
  {
   "cell_type": "code",
   "execution_count": 25,
   "id": "e148124c",
   "metadata": {},
   "outputs": [
    {
     "name": "stdout",
     "output_type": "stream",
     "text": [
      "Initialised with 1410 image(s) found.\n",
      "Output directory set to C:\\Users\\Devi Prasad Doddala\\Desktop\\Capstone P-2\\Execution\\selected dataset\\category 1 - speed signs\\3\\output."
     ]
    },
    {
     "name": "stderr",
     "output_type": "stream",
     "text": [
      "Processing <PIL.Image.Image image mode=RGB size=27x29 at 0x1B9671BC520>: 100%|██████████| 500/500 [00:01<00:00, 495.80 Samples/s]  \n"
     ]
    }
   ],
   "source": [
    "category1 = Augmentor.Pipeline(r\"C:\\Users\\Devi Prasad Doddala\\Desktop\\Capstone P-2\\Execution\\selected dataset\\category 1 - speed signs\\3\")\n",
    "category1.zoom(probability=0.3, min_factor=0.8,max_factor=1.5)\n",
    "category1.random_brightness(probability=0.4,min_factor=0.3, max_factor=1.0)\n",
    "category1.random_distortion(probability=1, grid_width=3, grid_height=3, magnitude=5)\n",
    "category1.sample(500)\n",
    "\n",
    "#before augmenting = 1,410 \n",
    "#after augmenting =  1,910"
   ]
  },
  {
   "cell_type": "markdown",
   "id": "159a2cf9",
   "metadata": {},
   "source": [
    "# Augmenting Stop sign (14) using Keras"
   ]
  },
  {
   "cell_type": "code",
   "execution_count": 4,
   "id": "4c266d72",
   "metadata": {},
   "outputs": [],
   "source": [
    "from keras.preprocessing.image import ImageDataGenerator\n",
    "from skimage import io"
   ]
  },
  {
   "cell_type": "code",
   "execution_count": 3,
   "id": "4b8f2f6e",
   "metadata": {},
   "outputs": [],
   "source": [
    "\n",
    "# Construct an instance of the ImageDataGenerator class\n",
    "# Pass the augmentation parameters through the constructor. \n",
    "\n",
    "datagen = ImageDataGenerator(\n",
    "        rotation_range=20,     #Random rotation between 0 and 20\n",
    "        width_shift_range=0.2,   #% shift\n",
    "        height_shift_range=0.2,\n",
    "        shear_range=0.2,\n",
    "        zca_whitening=True,\n",
    "        zca_epsilon=1e-06,\n",
    "        zoom_range=0.2,\n",
    "        fill_mode = 'nearest', \n",
    "        data_format='channels_last', \n",
    "        brightness_range=[0.1, 4.0], cval=125) "
   ]
  },
  {
   "cell_type": "code",
   "execution_count": 4,
   "id": "790b9e15",
   "metadata": {},
   "outputs": [],
   "source": [
    "#using a normal image\n",
    "a = io.imread(r'C:\\Users\\Devi Prasad Doddala\\Desktop\\Capstone P-2\\Execution\\selected dataset\\category 2 - caution signs\\14\\00014_00001_00029.png')\n",
    "a = a.reshape((1, ) + a.shape)\n",
    "i = 0\n",
    "for batch in datagen.flow(a, batch_size=16,  \n",
    "                          save_to_dir=(r'C:\\Users\\Devi Prasad Doddala\\Desktop\\Capstone P-2\\Execution\\Source\\Train\\5'), \n",
    "                          save_prefix='aug1', \n",
    "                          save_format='png'):\n",
    "        i += 1\n",
    "        if i > 300:\n",
    "            break"
   ]
  },
  {
   "cell_type": "code",
   "execution_count": 6,
   "id": "e1403ffb",
   "metadata": {},
   "outputs": [],
   "source": [
    "#using a less bright image\n",
    "b = io.imread(r'C:\\Users\\Devi Prasad Doddala\\Desktop\\Capstone P-2\\Execution\\selected dataset\\category 2 - caution signs\\14\\00014_00005_00029.png')\n",
    "b = b.reshape((1, ) + b.shape)\n",
    "j = 0\n",
    "for batch in datagen.flow(b, batch_size=16,  \n",
    "                          save_to_dir=(r'C:\\Users\\Devi Prasad Doddala\\Desktop\\Capstone P-2\\Execution\\Source\\Train\\5'),   save_prefix='aug2',  save_format='png'):\n",
    "        j += 1\n",
    "        if j > 300:\n",
    "            break "
   ]
  },
  {
   "cell_type": "code",
   "execution_count": 7,
   "id": "89480d1a",
   "metadata": {},
   "outputs": [],
   "source": [
    "#using small and dark image\n",
    "c = io.imread(r'C:\\Users\\Devi Prasad Doddala\\Desktop\\Capstone P-2\\Execution\\selected dataset\\category 2 - caution signs\\14\\00014_00004_00000.png')\n",
    "c = c.reshape((1, ) + c.shape)\n",
    "k = 0\n",
    "for batch in datagen.flow(c, batch_size=16,  \n",
    "                          save_to_dir=(r'C:\\Users\\Devi Prasad Doddala\\Desktop\\Capstone P-2\\Execution\\Source\\Train\\5'),   save_prefix='aug3',  save_format='png'):\n",
    "        k += 1\n",
    "        if k > 300:\n",
    "            break"
   ]
  },
  {
   "cell_type": "code",
   "execution_count": 8,
   "id": "3ae8c11f",
   "metadata": {},
   "outputs": [],
   "source": [
    "#using blurred image     \n",
    "d = io.imread(r'C:\\Users\\Devi Prasad Doddala\\Desktop\\Capstone P-2\\Execution\\selected dataset\\category 2 - caution signs\\14\\00014_00006_00000.png')\n",
    "d = d.reshape((1, ) + d.shape)\n",
    "l = 0\n",
    "for batch in datagen.flow(d, batch_size=16,  \n",
    "                          save_to_dir=(r'C:\\Users\\Devi Prasad Doddala\\Desktop\\Capstone P-2\\Execution\\Source\\Train\\5'),   save_prefix='aug4',  save_format='png'):\n",
    "        l += 1\n",
    "        if l > 300:\n",
    "            break \n",
    "            \n",
    "\n",
    "#before augmenting = 780\n",
    "#after augmenting = 1969"
   ]
  },
  {
   "cell_type": "markdown",
   "id": "6fc949fb",
   "metadata": {},
   "source": [
    "import keras\n",
    "import cv2\n",
    "import os\n",
    "import glob\n",
    "from keras.preprocessing.image import ImageDataGenerator\n",
    "from tensorflow.keras.utils import img_to_array, array_to_img, load_img\n",
    "\n",
    "datagen = ImageDataGenerator(rotation_range =15, \n",
    "                         width_shift_range = 0.2, \n",
    "                         height_shift_range = 0.2,  \n",
    "                         rescale=1./255, \n",
    "                         shear_range=0.2, \n",
    "                         zoom_range=0.2, \n",
    "                         horizontal_flip = True, \n",
    "                         fill_mode = 'nearest', \n",
    "                         data_format='channels_last', \n",
    "                         brightness_range=[0.1, 5.5]) \n",
    "\n",
    "\n",
    "img_dir = (r\"C:\\cnnsigdetection\\Train\\we\") # Enter Directory of all images \n",
    "data_path = os.path.join(img_dir,'*g')\n",
    "files = glob.glob(data_path)\n",
    "data = []\n",
    "for f1 in files:\n",
    "    img = cv2.imread(f1)\n",
    "    data.append(img)\n",
    "\n",
    "x = img_to_array(img)\n",
    "x = x.reshape((1,) + x.shape)\n",
    "\n",
    "i = 0\n",
    "path, dirs, files = next(os.walk(r\"C:\\cnnsigdetection\\Train\\we\"))\n",
    "file_count = len(files) #to find number of files in folder\n",
    "\n",
    "for batch in datagen.flow (x, batch_size=1, save_to_dir =r'C:\\cnnsigdetection\\Train\\augmented',save_prefix=\"aug\",save_format='png'):\n",
    "    i+=1\n",
    "    if i==file_count:\n",
    "        break"
   ]
  },
  {
   "cell_type": "markdown",
   "id": "303d3061",
   "metadata": {},
   "source": [
    "# Augmenting No entry sign (17) using Augmentor"
   ]
  },
  {
   "cell_type": "code",
   "execution_count": 5,
   "id": "dd90233c",
   "metadata": {},
   "outputs": [],
   "source": [
    "import Augmentor"
   ]
  },
  {
   "cell_type": "code",
   "execution_count": 58,
   "id": "1c347ad6",
   "metadata": {},
   "outputs": [
    {
     "name": "stdout",
     "output_type": "stream",
     "text": [
      "Initialised with 1110 image(s) found.\n",
      "Output directory set to C:\\Users\\Devi Prasad Doddala\\Desktop\\Capstone P-2\\Execution\\selected dataset\\category 2 - caution signs\\17\\output."
     ]
    },
    {
     "name": "stderr",
     "output_type": "stream",
     "text": [
      "Processing <PIL.Image.Image image mode=RGB size=30x30 at 0x2767BD248B0>: 100%|██████████| 300/300 [00:00<00:00, 672.33 Samples/s]  \n"
     ]
    }
   ],
   "source": [
    "category2 = Augmentor.Pipeline(r\"C:\\Users\\Devi Prasad Doddala\\Desktop\\Capstone P-2\\Execution\\selected dataset\\category 2 - caution signs\\17\")\n",
    "category2.zoom(probability=0.3, min_factor=0.8,max_factor=1.5)\n",
    "category2.random_brightness(probability=0.4,min_factor=0.3, max_factor=1.0)\n",
    "category2.random_distortion(probability=1, grid_width=3, grid_height=3, magnitude=5)\n",
    "category2.sample(300)\n",
    "#generates images in 'output' folder"
   ]
  },
  {
   "cell_type": "markdown",
   "id": "ebf2cd7f",
   "metadata": {},
   "source": [
    "# Augmenting No entry sign (17) using Keras"
   ]
  },
  {
   "cell_type": "code",
   "execution_count": 68,
   "id": "7231f185",
   "metadata": {},
   "outputs": [],
   "source": [
    "#using an image from output folder\n",
    "e = io.imread(r'C:\\Users\\Devi Prasad Doddala\\Desktop\\Capstone P-2\\Execution\\selected dataset\\category 2 - caution signs\\17\\output\\17_original_00017_00022_00029.png_561920d5-d492-4eb3-827b-186ad451a417.png')\n",
    "e = e.reshape((1, ) + e.shape)\n",
    "i = 0\n",
    "for batch in datagen.flow(e, batch_size=16,  \n",
    "                          save_to_dir=(r'C:\\Users\\Devi Prasad Doddala\\Desktop\\Capstone P-2\\Execution\\selected dataset\\category 2 - caution signs\\17\\Augmented'), \n",
    "                          save_prefix='aug1', \n",
    "                          save_format='png'):\n",
    "        i += 1\n",
    "        if i > 300:\n",
    "            break"
   ]
  },
  {
   "cell_type": "code",
   "execution_count": 69,
   "id": "37fe9faa",
   "metadata": {},
   "outputs": [],
   "source": [
    "#using a small and dark image\n",
    "f = io.imread(r'C:\\Users\\Devi Prasad Doddala\\Desktop\\Capstone P-2\\Execution\\selected dataset\\category 2 - caution signs\\17\\00017_00022_00001.png')\n",
    "f = f.reshape((1, ) + f.shape)\n",
    "j = 0\n",
    "for batch in datagen.flow(f, batch_size=16,  \n",
    "                          save_to_dir=(r'C:\\Users\\Devi Prasad Doddala\\Desktop\\Capstone P-2\\Execution\\selected dataset\\category 2 - caution signs\\17\\Augmented'), \n",
    "                          save_prefix='aug2', \n",
    "                          save_format='png'):\n",
    "        j += 1\n",
    "        if j > 250:\n",
    "            break\n",
    "            \n",
    "\n",
    "#before augmenting = 1110\n",
    "#after augmenting = 1956"
   ]
  },
  {
   "cell_type": "markdown",
   "id": "206facc2",
   "metadata": {},
   "source": [
    "# Augmenting Turn Left Sign (19) using Augmentor"
   ]
  },
  {
   "cell_type": "code",
   "execution_count": 6,
   "id": "20a9c8ac",
   "metadata": {},
   "outputs": [],
   "source": [
    "import Augmentor\n"
   ]
  },
  {
   "cell_type": "code",
   "execution_count": 72,
   "id": "4f92d588",
   "metadata": {},
   "outputs": [
    {
     "name": "stdout",
     "output_type": "stream",
     "text": [
      "Initialised with 210 image(s) found.\n",
      "Output directory set to C:\\Users\\Devi Prasad Doddala\\Desktop\\Capstone P-2\\Execution\\selected dataset\\category 2 - caution signs\\19\\output."
     ]
    },
    {
     "name": "stderr",
     "output_type": "stream",
     "text": [
      "Processing <PIL.Image.Image image mode=RGB size=122x109 at 0x2767C61DC10>: 100%|██████████| 300/300 [00:00<00:00, 560.62 Samples/s]\n"
     ]
    }
   ],
   "source": [
    "category2 = Augmentor.Pipeline(r\"C:\\Users\\Devi Prasad Doddala\\Desktop\\Capstone P-2\\Execution\\selected dataset\\category 2 - caution signs\\19\")\n",
    "category2.zoom(probability=0.3, min_factor=0.5,max_factor=1.5)\n",
    "category2.random_brightness(probability=0.4,min_factor=0.3, max_factor=1.0)\n",
    "category2.random_distortion(probability=1, grid_width=3, grid_height=3, magnitude=5)\n",
    "category2.sample(300)\n",
    "#generates images in 'output' folder"
   ]
  },
  {
   "cell_type": "markdown",
   "id": "55250916",
   "metadata": {},
   "source": [
    "# Augmenting Turn Left Sign (19) Using Keras"
   ]
  },
  {
   "cell_type": "code",
   "execution_count": 7,
   "id": "368ac865",
   "metadata": {},
   "outputs": [
    {
     "name": "stderr",
     "output_type": "stream",
     "text": [
      "C:\\Anaconda\\lib\\site-packages\\keras\\preprocessing\\image.py:1446: UserWarning: This ImageDataGenerator specifies `zca_whitening`, which overrides setting of `featurewise_center`.\n",
      "  warnings.warn(\n"
     ]
    }
   ],
   "source": [
    "#removed random flip as direction here matters\n",
    "datagen2 = ImageDataGenerator(\n",
    "        rotation_range=25,     #Random rotation between 0 and 45\n",
    "        width_shift_range=0.2,   #% shift\n",
    "        height_shift_range=0.2,\n",
    "        shear_range=0.2,\n",
    "        zca_whitening=True,\n",
    "        zca_epsilon=1e-06,\n",
    "        zoom_range=0.2,\n",
    "        fill_mode = 'nearest', \n",
    "        data_format='channels_last', \n",
    "        brightness_range=[0.1, 5.0], cval=125) \n",
    "\n",
    "datagen3 = ImageDataGenerator(\n",
    "        rotation_range=25,     #Random rotation between 0 and 45\n",
    "        width_shift_range=0.2,   #% shift\n",
    "        height_shift_range=0.2,\n",
    "        shear_range=0.2,\n",
    "        zca_whitening=True,\n",
    "        zca_epsilon=1e-06,\n",
    "        zoom_range=0.2,\n",
    "        fill_mode = 'nearest', \n",
    "        data_format='channels_last', \n",
    "        brightness_range=[0.1, 1.0], cval=125) "
   ]
  },
  {
   "cell_type": "code",
   "execution_count": 8,
   "id": "2e721748",
   "metadata": {},
   "outputs": [],
   "source": [
    "#using a normal image\n",
    "g = io.imread(r'C:\\Users\\Devi Prasad Doddala\\Desktop\\Capstone P-2\\Execution\\selected dataset\\category 2 - caution signs\\19\\00019_00001_00029.png')\n",
    "g = g.reshape((1, ) + g.shape)\n",
    "i = 0\n",
    "for batch in datagen2.flow(g, batch_size=16,  \n",
    "                          save_to_dir=(r'C:\\Users\\Devi Prasad Doddala\\Desktop\\Capstone P-2\\Execution\\selected dataset\\category 2 - caution signs\\19\\Augmented'), \n",
    "                          save_prefix='aug1', \n",
    "                          save_format='png'):\n",
    "        i += 1\n",
    "        if i > 350:\n",
    "            break"
   ]
  },
  {
   "cell_type": "code",
   "execution_count": 81,
   "id": "a66ce693",
   "metadata": {},
   "outputs": [],
   "source": [
    "#using a dark image\n",
    "h = io.imread(r'C:\\Users\\Devi Prasad Doddala\\Desktop\\Capstone P-2\\Execution\\selected dataset\\category 2 - caution signs\\19\\00019_00004_00025.png')\n",
    "h = h.reshape((1, ) + h.shape)\n",
    "i = 0\n",
    "for batch in datagen2.flow(h, batch_size=16,  \n",
    "                          save_to_dir=(r'C:\\Users\\Devi Prasad Doddala\\Desktop\\Capstone P-2\\Execution\\selected dataset\\category 2 - caution signs\\19\\Augmented'), \n",
    "                          save_prefix='aug2', \n",
    "                          save_format='png'):\n",
    "        i += 1\n",
    "        if i > 350:\n",
    "            break"
   ]
  },
  {
   "cell_type": "code",
   "execution_count": 82,
   "id": "cd8b4528",
   "metadata": {},
   "outputs": [],
   "source": [
    "#using a small image\n",
    "j = io.imread(r'C:\\Users\\Devi Prasad Doddala\\Desktop\\Capstone P-2\\Execution\\selected dataset\\category 2 - caution signs\\19\\00019_00006_00000.png')\n",
    "j = j.reshape((1, ) + j.shape)\n",
    "i = 0\n",
    "for batch in datagen2.flow(j, batch_size=16,  \n",
    "                          save_to_dir=(r'C:\\Users\\Devi Prasad Doddala\\Desktop\\Capstone P-2\\Execution\\selected dataset\\category 2 - caution signs\\19\\Augmented'), \n",
    "                          save_prefix='aug3', \n",
    "                          save_format='png'):\n",
    "        i += 1\n",
    "        if i > 400:\n",
    "            break"
   ]
  },
  {
   "cell_type": "code",
   "execution_count": 83,
   "id": "66827063",
   "metadata": {},
   "outputs": [],
   "source": [
    "#using a big dark image\n",
    "k = io.imread(r'C:\\Users\\Devi Prasad Doddala\\Desktop\\Capstone P-2\\Execution\\selected dataset\\category 2 - caution signs\\19\\00019_00004_00029.png')\n",
    "k = k.reshape((1, ) + k.shape)\n",
    "i = 0\n",
    "for batch in datagen3.flow(k, batch_size=16,  \n",
    "                          save_to_dir=(r'C:\\Users\\Devi Prasad Doddala\\Desktop\\Capstone P-2\\Execution\\selected dataset\\category 2 - caution signs\\19\\Augmented'), \n",
    "                          save_prefix='aug4', \n",
    "                          save_format='png'):\n",
    "        i += 1\n",
    "        if i > 400:\n",
    "            break"
   ]
  },
  {
   "cell_type": "markdown",
   "id": "9d76eb29",
   "metadata": {},
   "source": [
    "# Augmenting Turn Right Sign (20) using Augmentor"
   ]
  },
  {
   "cell_type": "code",
   "execution_count": 9,
   "id": "0606ae4d",
   "metadata": {},
   "outputs": [],
   "source": [
    "import Augmentor\n"
   ]
  },
  {
   "cell_type": "code",
   "execution_count": 1,
   "id": "b0dd953c",
   "metadata": {},
   "outputs": [
    {
     "name": "stdout",
     "output_type": "stream",
     "text": [
      "Initialised with 360 image(s) found.\n",
      "Output directory set to C:\\Users\\Devi Prasad Doddala\\Desktop\\Capstone P-2\\Execution\\selected dataset\\category 2 - caution signs\\20\\output."
     ]
    },
    {
     "name": "stderr",
     "output_type": "stream",
     "text": [
      "Processing <PIL.Image.Image image mode=RGB size=47x45 at 0x1B95826B580>: 100%|██████████| 300/300 [00:00<00:00, 689.05 Samples/s]  \n"
     ]
    }
   ],
   "source": [
    "#without zoom\n",
    "category2 = Augmentor.Pipeline(r\"C:\\Users\\Devi Prasad Doddala\\Desktop\\Capstone P-2\\Execution\\selected dataset\\category 2 - caution signs\\20\")\n",
    "#category2.zoom(probability=0.3, min_factor=0.5,max_factor=1.5)\n",
    "category2.random_brightness(probability=0.4,min_factor=0.3, max_factor=1.0)\n",
    "category2.random_distortion(probability=1, grid_width=3, grid_height=3, magnitude=5)\n",
    "category2.sample(300)\n",
    "\n",
    "#generates images in 'output' folder"
   ]
  },
  {
   "cell_type": "code",
   "execution_count": 10,
   "id": "4e8c83d1",
   "metadata": {},
   "outputs": [],
   "source": [
    "import Augmentor\n"
   ]
  },
  {
   "cell_type": "code",
   "execution_count": 3,
   "id": "d1a2f127",
   "metadata": {},
   "outputs": [
    {
     "name": "stdout",
     "output_type": "stream",
     "text": [
      "Initialised with 360 image(s) found.\n",
      "Output directory set to C:\\Users\\Devi Prasad Doddala\\Desktop\\Capstone P-2\\Execution\\selected dataset\\category 2 - caution signs\\20\\output."
     ]
    },
    {
     "name": "stderr",
     "output_type": "stream",
     "text": [
      "Processing <PIL.Image.Image image mode=RGB size=44x39 at 0x1B95A2FFBE0>: 100%|██████████| 300/300 [00:00<00:00, 717.03 Samples/s]  \n"
     ]
    }
   ],
   "source": [
    "#withzoom\n",
    "category2 = Augmentor.Pipeline(r\"C:\\Users\\Devi Prasad Doddala\\Desktop\\Capstone P-2\\Execution\\selected dataset\\category 2 - caution signs\\20\")\n",
    "category2.zoom(probability=0.3, min_factor=0.5,max_factor=1.5)\n",
    "category2.random_brightness(probability=0.4,min_factor=0.3, max_factor=1.0)\n",
    "category2.random_distortion(probability=1, grid_width=3, grid_height=3, magnitude=5)\n",
    "category2.sample(300)\n",
    "#generates images in 'output' folder"
   ]
  },
  {
   "cell_type": "markdown",
   "id": "3aa5c691",
   "metadata": {},
   "source": [
    "# Augmenting Turn Right Sign (20) using Keras"
   ]
  },
  {
   "cell_type": "code",
   "execution_count": 7,
   "id": "fd4af6a7",
   "metadata": {},
   "outputs": [
    {
     "name": "stderr",
     "output_type": "stream",
     "text": [
      "C:\\Anaconda\\lib\\site-packages\\keras\\preprocessing\\image.py:1863: UserWarning: This ImageDataGenerator specifies `featurewise_center`, but it hasn't been fit on any training data. Fit it first by calling `.fit(numpy_data)`.\n",
      "  warnings.warn(\n",
      "C:\\Anaconda\\lib\\site-packages\\keras\\preprocessing\\image.py:1886: UserWarning: This ImageDataGenerator specifies `zca_whitening`, but it hasn't been fit on any training data. Fit it first by calling `.fit(numpy_data)`.\n",
      "  warnings.warn(\n"
     ]
    }
   ],
   "source": [
    "#using a normal image\n",
    "m = io.imread(r'C:\\Users\\Devi Prasad Doddala\\Desktop\\Capstone P-2\\Execution\\selected dataset\\category 2 - caution signs\\20\\00020_00007_00029.png')\n",
    "m = m.reshape((1, ) + m.shape)\n",
    "i = 0\n",
    "for batch in datagen3.flow(m, batch_size=16,  \n",
    "                          save_to_dir=(r'C:\\Users\\Devi Prasad Doddala\\Desktop\\Capstone P-2\\Execution\\selected dataset\\category 2 - caution signs\\20\\Augmented'), \n",
    "                          save_prefix='aug1', \n",
    "                          save_format='png'):\n",
    "        i += 1\n",
    "        if i > 350:\n",
    "            break"
   ]
  },
  {
   "cell_type": "code",
   "execution_count": 10,
   "id": "5505f722",
   "metadata": {},
   "outputs": [],
   "source": [
    "#using a dark image\n",
    "n = io.imread(r'C:\\Users\\Devi Prasad Doddala\\Desktop\\Capstone P-2\\Execution\\selected dataset\\category 2 - caution signs\\20\\00020_00008_00017.png')\n",
    "n = n.reshape((1, ) + n.shape)\n",
    "i = 0\n",
    "for batch in datagen2.flow(n, batch_size=16,  \n",
    "                          save_to_dir=(r'C:\\Users\\Devi Prasad Doddala\\Desktop\\Capstone P-2\\Execution\\selected dataset\\category 2 - caution signs\\20\\Augmented'), \n",
    "                          save_prefix='aug2', \n",
    "                          save_format='png'):\n",
    "        i += 1\n",
    "        if i > 350:\n",
    "            break"
   ]
  },
  {
   "cell_type": "code",
   "execution_count": 11,
   "id": "cdd7f3e5",
   "metadata": {},
   "outputs": [],
   "source": [
    "#using a blurred image\n",
    "o = io.imread(r'C:\\Users\\Devi Prasad Doddala\\Desktop\\Capstone P-2\\Execution\\selected dataset\\category 2 - caution signs\\20\\00020_00003_00029.png')\n",
    "o = o.reshape((1, ) + o.shape)\n",
    "i = 0\n",
    "for batch in datagen3.flow(o, batch_size=16,  \n",
    "                          save_to_dir=(r'C:\\Users\\Devi Prasad Doddala\\Desktop\\Capstone P-2\\Execution\\selected dataset\\category 2 - caution signs\\20\\Augmented'), \n",
    "                          save_prefix='aug3', \n",
    "                          save_format='png'):\n",
    "        i += 1\n",
    "        if i > 200:\n",
    "            break"
   ]
  },
  {
   "cell_type": "markdown",
   "id": "91b9d5ef",
   "metadata": {},
   "source": [
    "# Augmenting Bumpy Road (22) using Augmentor"
   ]
  },
  {
   "cell_type": "code",
   "execution_count": 11,
   "id": "6f1217e5",
   "metadata": {},
   "outputs": [],
   "source": [
    "import Augmentor"
   ]
  },
  {
   "cell_type": "code",
   "execution_count": 12,
   "id": "2285bc18",
   "metadata": {},
   "outputs": [
    {
     "name": "stdout",
     "output_type": "stream",
     "text": [
      "Initialised with 390 image(s) found.\n",
      "Output directory set to C:\\Users\\Devi Prasad Doddala\\Desktop\\Capstone P-2\\Execution\\selected dataset\\category 2 - caution signs\\22\\output."
     ]
    },
    {
     "name": "stderr",
     "output_type": "stream",
     "text": [
      "Processing <PIL.Image.Image image mode=RGB size=36x34 at 0x1B966B1BB80>: 100%|██████████| 300/300 [00:00<00:00, 616.44 Samples/s]  \n"
     ]
    }
   ],
   "source": [
    "category2 = Augmentor.Pipeline(r\"C:\\Users\\Devi Prasad Doddala\\Desktop\\Capstone P-2\\Execution\\selected dataset\\category 2 - caution signs\\22\")\n",
    "category2.zoom(probability=0.3, min_factor=0.5,max_factor=1.5)\n",
    "category2.random_brightness(probability=0.4,min_factor=0.3, max_factor=1.0)\n",
    "category2.random_distortion(probability=1, grid_width=3, grid_height=3, magnitude=5)\n",
    "category2.sample(300)\n",
    "#generates images in 'output' folder"
   ]
  },
  {
   "cell_type": "code",
   "execution_count": 13,
   "id": "b4a55749",
   "metadata": {},
   "outputs": [],
   "source": [
    "#using a normal image\n",
    "p = io.imread(r'C:\\Users\\Devi Prasad Doddala\\Desktop\\Capstone P-2\\Execution\\selected dataset\\category 2 - caution signs\\22\\00022_00002_00021.png')\n",
    "p = p.reshape((1, ) + p.shape)\n",
    "i = 0\n",
    "for batch in datagen2.flow(p, batch_size=16,  \n",
    "                          save_to_dir=(r'C:\\Users\\Devi Prasad Doddala\\Desktop\\Capstone P-2\\Execution\\selected dataset\\category 2 - caution signs\\22\\Augmented'), \n",
    "                          save_prefix='aug1', \n",
    "                          save_format='png'):\n",
    "        i += 1\n",
    "        if i > 350:\n",
    "            break"
   ]
  },
  {
   "cell_type": "code",
   "execution_count": 15,
   "id": "8e47d056",
   "metadata": {},
   "outputs": [],
   "source": [
    "#using a dark image\n",
    "q = io.imread(r'C:\\Users\\Devi Prasad Doddala\\Desktop\\Capstone P-2\\Execution\\selected dataset\\category 2 - caution signs\\22\\00022_00004_00009.png')\n",
    "q = q.reshape((1, ) + q.shape)\n",
    "i = 0\n",
    "for batch in datagen3.flow(q, batch_size=16,  \n",
    "                          save_to_dir=(r'C:\\Users\\Devi Prasad Doddala\\Desktop\\Capstone P-2\\Execution\\selected dataset\\category 2 - caution signs\\22\\Augmented'), \n",
    "                          save_prefix='aug2', \n",
    "                          save_format='png'):\n",
    "        i += 1\n",
    "        if i > 350:\n",
    "            break"
   ]
  },
  {
   "cell_type": "code",
   "execution_count": 16,
   "id": "2bc04521",
   "metadata": {},
   "outputs": [],
   "source": [
    "#using a normal image\n",
    "r = io.imread(r'C:\\Users\\Devi Prasad Doddala\\Desktop\\Capstone P-2\\Execution\\selected dataset\\category 2 - caution signs\\22\\output\\22_original_00022_00004_00028.png_1dc2907b-0d51-4ba7-b57f-c0d8c99f93c5.png')\n",
    "r = r.reshape((1, ) + r.shape)\n",
    "i = 0\n",
    "for batch in datagen2.flow(r, batch_size=16,  \n",
    "                          save_to_dir=(r'C:\\Users\\Devi Prasad Doddala\\Desktop\\Capstone P-2\\Execution\\selected dataset\\category 2 - caution signs\\22\\Augmented'), \n",
    "                          save_prefix='aug3', \n",
    "                          save_format='png'):\n",
    "        i += 1\n",
    "        if i > 350:\n",
    "            break"
   ]
  },
  {
   "cell_type": "code",
   "execution_count": 18,
   "id": "4a8a0f02",
   "metadata": {},
   "outputs": [],
   "source": [
    "#using a normal image\n",
    "s = io.imread(r'C:\\Users\\Devi Prasad Doddala\\Desktop\\Capstone P-2\\Execution\\selected dataset\\category 2 - caution signs\\22\\00022_00008_00029.png')\n",
    "s = s.reshape((1, ) + s.shape)\n",
    "i = 0\n",
    "for batch in datagen3.flow(s, batch_size=16,  \n",
    "                          save_to_dir=(r'C:\\Users\\Devi Prasad Doddala\\Desktop\\Capstone P-2\\Execution\\selected dataset\\category 2 - caution signs\\22\\Augmented'), \n",
    "                          save_prefix='aug4', \n",
    "                          save_format='png'):\n",
    "        i += 1\n",
    "        if i > 250:\n",
    "            break"
   ]
  },
  {
   "cell_type": "code",
   "execution_count": 12,
   "id": "6b548700",
   "metadata": {},
   "outputs": [],
   "source": [
    "import os\n"
   ]
  },
  {
   "cell_type": "code",
   "execution_count": 14,
   "id": "e1acdc0a",
   "metadata": {},
   "outputs": [
    {
     "name": "stdout",
     "output_type": "stream",
     "text": [
      "Number of images before augmentation - \n",
      "\t30 Km/h =  2220\n",
      "\t50 Km/h =  2250\n",
      "\t60 Km/h =  1410\n",
      "\t70 Km/h =  1980\n",
      "\t80 Km/h =  1860\n",
      "\tStop =  780\n",
      "\tNo Entry =  1110\n",
      "\tTurn Left =  210\n",
      "\tTurn Right =  360\n",
      "\tBumpy Road =  390\n",
      "Number of images after augmentation - \n",
      "\t30 Km/h =  2220\n",
      "\t50 Km/h =  2250\n",
      "\t60 Km/h =  1910\n",
      "\t70 Km/h =  1980\n",
      "\t80 Km/h =  1860\n",
      "\tStop =  1969\n",
      "\tNo Entry =  1956\n",
      "\tTurn Left =  1992\n",
      "\tTurn Right =  1846\n",
      "\tBumpy Road =  1974\n"
     ]
    }
   ],
   "source": [
    "#Number of files before augmentation\n",
    "\n",
    "dir_path1 = r'C:\\Users\\Devi Prasad Doddala\\Desktop\\Capstone P-2\\Execution\\selected dataset\\category 1 - speed signs\\1'\n",
    "dir_path2 = r'C:\\Users\\Devi Prasad Doddala\\Desktop\\Capstone P-2\\Execution\\selected dataset\\category 1 - speed signs\\2'\n",
    "dir_path3 = r'C:\\Users\\Devi Prasad Doddala\\Desktop\\Capstone P-2\\Execution\\selected dataset\\category 1 - speed signs\\3'\n",
    "dir_path4 = r'C:\\Users\\Devi Prasad Doddala\\Desktop\\Capstone P-2\\Execution\\selected dataset\\category 1 - speed signs\\4'\n",
    "dir_path5 = r'C:\\Users\\Devi Prasad Doddala\\Desktop\\Capstone P-2\\Execution\\selected dataset\\category 1 - speed signs\\5'\n",
    "dir_path6 = r'C:\\Users\\Devi Prasad Doddala\\Desktop\\Capstone P-2\\Execution\\selected dataset\\category 2 - caution signs\\14'\n",
    "dir_path7 = r'C:\\Users\\Devi Prasad Doddala\\Desktop\\Capstone P-2\\Execution\\selected dataset\\category 2 - caution signs\\17'\n",
    "dir_path8 = r'C:\\Users\\Devi Prasad Doddala\\Desktop\\Capstone P-2\\Execution\\selected dataset\\category 2 - caution signs\\19'\n",
    "dir_path9 = r'C:\\Users\\Devi Prasad Doddala\\Desktop\\Capstone P-2\\Execution\\selected dataset\\category 2 - caution signs\\20'\n",
    "dir_path10 = r'C:\\Users\\Devi Prasad Doddala\\Desktop\\Capstone P-2\\Execution\\selected dataset\\category 2 - caution signs\\22'\n",
    "print(\"Number of images before augmentation - \")\n",
    "print(\"\\t30 Km/h = \",len([entry for entry in os.listdir(dir_path1) if os.path.isfile(os.path.join(dir_path1, entry))]))\n",
    "print(\"\\t50 Km/h = \",len([entry for entry in os.listdir(dir_path2) if os.path.isfile(os.path.join(dir_path2, entry))]))\n",
    "print(\"\\t60 Km/h = \",len([entry for entry in os.listdir(dir_path3) if os.path.isfile(os.path.join(dir_path3, entry))]))\n",
    "print(\"\\t70 Km/h = \",len([entry for entry in os.listdir(dir_path4) if os.path.isfile(os.path.join(dir_path4, entry))]))\n",
    "print(\"\\t80 Km/h = \",len([entry for entry in os.listdir(dir_path5) if os.path.isfile(os.path.join(dir_path5, entry))]))\n",
    "print(\"\\tStop = \",len([entry for entry in os.listdir(dir_path6) if os.path.isfile(os.path.join(dir_path6, entry))]))\n",
    "print(\"\\tNo Entry = \",len([entry for entry in os.listdir(dir_path7) if os.path.isfile(os.path.join(dir_path7, entry))]))\n",
    "print(\"\\tTurn Left = \",len([entry for entry in os.listdir(dir_path8) if os.path.isfile(os.path.join(dir_path8, entry))]))\n",
    "print(\"\\tTurn Right = \",len([entry for entry in os.listdir(dir_path9) if os.path.isfile(os.path.join(dir_path9, entry))]))\n",
    "print(\"\\tBumpy Road = \",len([entry for entry in os.listdir(dir_path10) if os.path.isfile(os.path.join(dir_path10, entry))]))\n",
    "\n",
    "#Number of files after augmentation\n",
    "\n",
    "dir_path11 = r'C:\\Users\\Devi Prasad Doddala\\Desktop\\Capstone P-2\\Execution\\Source\\Train\\1'\n",
    "dir_path12= r'C:\\Users\\Devi Prasad Doddala\\Desktop\\Capstone P-2\\Execution\\Source\\Train\\2'\n",
    "dir_path13= r'C:\\Users\\Devi Prasad Doddala\\Desktop\\Capstone P-2\\Execution\\Source\\Train\\3'\n",
    "dir_path14= r'C:\\Users\\Devi Prasad Doddala\\Desktop\\Capstone P-2\\Execution\\Source\\Train\\4'\n",
    "dir_path15 = r'C:\\Users\\Devi Prasad Doddala\\Desktop\\Capstone P-2\\Execution\\Source\\Train\\5'\n",
    "dir_path16 = r'C:\\Users\\Devi Prasad Doddala\\Desktop\\Capstone P-2\\Execution\\Source\\Train\\6'\n",
    "dir_path17 = r'C:\\Users\\Devi Prasad Doddala\\Desktop\\Capstone P-2\\Execution\\Source\\Train\\7'\n",
    "dir_path18 = r'C:\\Users\\Devi Prasad Doddala\\Desktop\\Capstone P-2\\Execution\\Source\\Train\\8'\n",
    "dir_path19 = r'C:\\Users\\Devi Prasad Doddala\\Desktop\\Capstone P-2\\Execution\\Source\\Train\\9'\n",
    "dir_path20 = r'C:\\Users\\Devi Prasad Doddala\\Desktop\\Capstone P-2\\Execution\\Source\\Train\\10'\n",
    "print(\"Number of images after augmentation - \")\n",
    "print(\"\\t30 Km/h = \",len([entry for entry in os.listdir(dir_path11) if os.path.isfile(os.path.join(dir_path11, entry))]))\n",
    "print(\"\\t50 Km/h = \",len([entry for entry in os.listdir(dir_path12) if os.path.isfile(os.path.join(dir_path12, entry))]))\n",
    "print(\"\\t60 Km/h = \",len([entry for entry in os.listdir(dir_path13) if os.path.isfile(os.path.join(dir_path13, entry))]))\n",
    "print(\"\\t70 Km/h = \",len([entry for entry in os.listdir(dir_path14) if os.path.isfile(os.path.join(dir_path14, entry))]))\n",
    "print(\"\\t80 Km/h = \",len([entry for entry in os.listdir(dir_path15) if os.path.isfile(os.path.join(dir_path15, entry))]))\n",
    "print(\"\\tStop = \",len([entry for entry in os.listdir(dir_path16) if os.path.isfile(os.path.join(dir_path16, entry))]))\n",
    "print(\"\\tNo Entry = \",len([entry for entry in os.listdir(dir_path17) if os.path.isfile(os.path.join(dir_path17, entry))]))\n",
    "print(\"\\tTurn Left = \",len([entry for entry in os.listdir(dir_path18) if os.path.isfile(os.path.join(dir_path18, entry))]))\n",
    "print(\"\\tTurn Right = \",len([entry for entry in os.listdir(dir_path19) if os.path.isfile(os.path.join(dir_path19, entry))]))\n",
    "print(\"\\tBumpy Road = \",len([entry for entry in os.listdir(dir_path20) if os.path.isfile(os.path.join(dir_path20, entry))]))\n"
   ]
  },
  {
   "cell_type": "code",
   "execution_count": 5,
   "id": "29114549",
   "metadata": {},
   "outputs": [
    {
     "name": "stdout",
     "output_type": "stream",
     "text": [
      "Requirement already satisfied: seaborn in c:\\anaconda\\lib\\site-packages (0.11.2)\n",
      "Requirement already satisfied: matplotlib>=2.2 in c:\\anaconda\\lib\\site-packages (from seaborn) (3.5.1)\n",
      "Requirement already satisfied: numpy>=1.15 in c:\\anaconda\\lib\\site-packages (from seaborn) (1.21.5)\n",
      "Requirement already satisfied: scipy>=1.0 in c:\\anaconda\\lib\\site-packages (from seaborn) (1.7.3)\n",
      "Requirement already satisfied: pandas>=0.23 in c:\\anaconda\\lib\\site-packages (from seaborn) (1.4.2)\n",
      "Requirement already satisfied: cycler>=0.10 in c:\\anaconda\\lib\\site-packages (from matplotlib>=2.2->seaborn) (0.11.0)\n",
      "Requirement already satisfied: fonttools>=4.22.0 in c:\\anaconda\\lib\\site-packages (from matplotlib>=2.2->seaborn) (4.25.0)\n",
      "Requirement already satisfied: packaging>=20.0 in c:\\anaconda\\lib\\site-packages (from matplotlib>=2.2->seaborn) (21.3)\n",
      "Requirement already satisfied: pyparsing>=2.2.1 in c:\\anaconda\\lib\\site-packages (from matplotlib>=2.2->seaborn) (3.0.4)\n",
      "Requirement already satisfied: python-dateutil>=2.7 in c:\\anaconda\\lib\\site-packages (from matplotlib>=2.2->seaborn) (2.8.2)\n",
      "Requirement already satisfied: pillow>=6.2.0 in c:\\anaconda\\lib\\site-packages (from matplotlib>=2.2->seaborn) (9.0.1)\n",
      "Requirement already satisfied: kiwisolver>=1.0.1 in c:\\anaconda\\lib\\site-packages (from matplotlib>=2.2->seaborn) (1.3.2)\n",
      "Requirement already satisfied: pytz>=2020.1 in c:\\anaconda\\lib\\site-packages (from pandas>=0.23->seaborn) (2021.3)\n",
      "Requirement already satisfied: six>=1.5 in c:\\anaconda\\lib\\site-packages (from python-dateutil>=2.7->matplotlib>=2.2->seaborn) (1.16.0)\n",
      "Note: you may need to restart the kernel to use updated packages.\n"
     ]
    }
   ],
   "source": [
    "pip install seaborn"
   ]
  },
  {
   "cell_type": "markdown",
   "id": "8a824833",
   "metadata": {},
   "source": [
    "# Ananlysis of Data Frequencies "
   ]
  },
  {
   "cell_type": "code",
   "execution_count": 13,
   "id": "5f8a57e3",
   "metadata": {},
   "outputs": [],
   "source": [
    "import pandas as pd\n",
    "import matplotlib.pyplot as plt\n",
    "import seaborn as sns"
   ]
  },
  {
   "cell_type": "code",
   "execution_count": 8,
   "id": "1925e37e",
   "metadata": {},
   "outputs": [],
   "source": [
    "df_before = pd.read_csv(r'C:\\Users\\Devi Prasad Doddala\\Desktop\\Capstone P-2\\Execution\\Source\\CSVs\\Before.csv')\n",
    "labels_before = df_before['ClassID']\n",
    "\n",
    "df_after = pd.read_csv(r'C:\\Users\\Devi Prasad Doddala\\Desktop\\Capstone P-2\\Execution\\Source\\CSVs\\After.csv')\n",
    "labels_after = df_after['ClassID']"
   ]
  },
  {
   "cell_type": "code",
   "execution_count": 9,
   "id": "764187c5",
   "metadata": {},
   "outputs": [
    {
     "data": {
      "image/png": "[encoded data removed]",
      "text/plain": [
       "<Figure size 1440x720 with 1 Axes>"
      ]
     },
     "metadata": {
      "needs_background": "light"
     },
     "output_type": "display_data"
    },
    {
     "data": {
      "image/png": "[encoded data removed]",
      "text/plain": [
       "<Figure size 1440x720 with 1 Axes>"
      ]
     },
     "metadata": {
      "needs_background": "light"
     },
     "output_type": "display_data"
    }
   ],
   "source": [
    "#before augmenting plot\n",
    "fig, ax = plt.subplots(1, 1)\n",
    "fig.set_size_inches((20,10))\n",
    "sns.countplot(data = df_before, x = 'ClassID', )\n",
    "plt.savefig('1_before_aug')\n",
    "plt.show()\n",
    "\n",
    "\n",
    "#after augmenting plot\n",
    "fig, ax = plt.subplots(1, 1)\n",
    "fig.set_size_inches((20,10))\n",
    "sns.countplot(data = df_after, x = 'ClassID', )\n",
    "plt.savefig('2_after_aug')\n",
    "plt.show()\n"
   ]
  },
  {
   "cell_type": "markdown",
   "id": "5e6d2b7e",
   "metadata": {},
   "source": [
    "### conclusion - \n",
    "##### The first graph shows the unbalanced data frequency.\n",
    "##### The second graph shows the data frequecy balanced."
   ]
  },
  {
   "cell_type": "code",
   "execution_count": 29,
   "id": "fea42a1f",
   "metadata": {},
   "outputs": [],
   "source": [
    "import numpy as np \n",
    "import pandas as pd\n",
    "from PIL import Image\n",
    "import cv2\n",
    "import os\n",
    "os.chdir(r'C:\\Users\\Devi Prasad Doddala\\Desktop\\Capstone P-2\\Execution\\Source')"
   ]
  },
  {
   "cell_type": "code",
   "execution_count": 54,
   "id": "f9d0153b",
   "metadata": {},
   "outputs": [
    {
     "data": {
      "text/plain": [
       "\"###for i in range(classes):\\n    path = os.path.join(current_path,'Train',str(i))\\n    images = os.listdir(path)\\n    for j in images:\\n        try:\\n            image = Image.open(path + '\\\\' + j)\\n            image = image.resize((30,30))\\n            image = np.array(image)\\n            data.append(image)\\n            labels.append(i)\\n        except Exception as e:\\n            print(e)\\n            \\n            data = np.array(data,dtype='i4')\\n    \\n\\n\\n            \""
      ]
     },
     "execution_count": 54,
     "metadata": {},
     "output_type": "execute_result"
    }
   ],
   "source": [
    "data = []     \n",
    "labels = []\n",
    "classes = 10 #since we have 10 classes of signs\n",
    "current_path = os.getcwd() #gets cwd\n",
    "\n",
    "#current_path #to show the cwd\n",
    "\n",
    "def load_train_images() :\n",
    "  '''\n",
    "  This functions loads train images into a numpy\n",
    "  array and returns it. It also returns the train\n",
    "  labels.\n",
    "  '''\n",
    "  #Reading the input images and storing then into numpy.ndarray\n",
    "  n_classes = 10\n",
    "  data = []\n",
    "  labels = []\n",
    "  #Reading the train images\n",
    "  for i in range(n_classes) :\n",
    "    path =  os.path.join(current_path,'Train',str(i))\n",
    "    Class = os.listdir(path)\n",
    "    for c in Class :\n",
    "      image = cv2.imread(path +'\\\\'+ c)\n",
    "      image = Image.fromarray(image)\n",
    "      data.append(np.array(image))\n",
    "      labels.append(i)\n",
    "  data=np.array(data)\n",
    "  labels=np.array(labels)\n",
    "  return data, labels\n",
    "\n",
    "'''###for i in range(classes):\n",
    "    path = os.path.join(current_path,'Train',str(i))\n",
    "    images = os.listdir(path)\n",
    "    for j in images:\n",
    "        try:\n",
    "            image = Image.open(path + '\\\\' + j)\n",
    "            image = image.resize((30,30))\n",
    "            image = np.array(image)\n",
    "            data.append(image)\n",
    "            labels.append(i)\n",
    "        except Exception as e:\n",
    "            print(e)\n",
    "            \n",
    "            data = np.array(data,dtype='i4')\n",
    "    \n",
    "\n",
    "\n",
    "            '''\n"
   ]
  },
  {
   "cell_type": "code",
   "execution_count": 56,
   "id": "59fb8a1a",
   "metadata": {},
   "outputs": [
    {
     "name": "stderr",
     "output_type": "stream",
     "text": [
      "C:\\Users\\Devi Prasad Doddala\\AppData\\Local\\Temp\\ipykernel_5864\\1431917478.py:27: VisibleDeprecationWarning: Creating an ndarray from ragged nested sequences (which is a list-or-tuple of lists-or-tuples-or ndarrays with different lengths or shapes) is deprecated. If you meant to do this, you must specify 'dtype=object' when creating the ndarray.\n",
      "  data=np.array(data)\n",
      "C:\\Users\\Devi Prasad Doddala\\AppData\\Local\\Temp\\ipykernel_5864\\2121177438.py:27: UserWarning: Matplotlib is currently using module://matplotlib_inline.backend_inline, which is a non-GUI backend, so cannot show the figure.\n",
      "  fig.show()\n"
     ]
    },
    {
     "data": {
      "image/png": "[encoded data removed]",
      "text/plain": [
       "<Figure size 576x576 with 1 Axes>"
      ]
     },
     "metadata": {},
     "output_type": "display_data"
    }
   ],
   "source": [
    "def img_dims_donut_chart(data) :\n",
    "  '''\n",
    "  This function takes images in the form of arrays\n",
    "  as input and plots a donut chart to show what\n",
    "  proportion of these images lies within certain dimension range.\n",
    "  '''\n",
    "  img_size_dict = {\n",
    "    \"b/w_16_&_32\" : 0,\n",
    "    \"b/w_32_&_64\" : 0,\n",
    "    \"b/w_64_&_128\" : 0,\n",
    "    }\n",
    "  for img in data :\n",
    "    if (img.shape[0] > 16 and img.shape[1] > 16) and (img.shape[0] < 32 and img.shape[1] < 32) :\n",
    "      img_size_dict['b/w_16_&_32'] += 1\n",
    "    elif (img.shape[0] > 32 and img.shape[1] > 32) and (img.shape[0] < 64 and img.shape[1] < 64) :\n",
    "      img_size_dict['b/w_32_&_64'] += 1\n",
    "    elif (img.shape[0] > 64 and img.shape[1] > 64) and (img.shape[0] < 128 and img.shape[1] < 128) :\n",
    "      img_size_dict['b/w_64_&_128'] += 1\n",
    "  categories = [\"Between 16 & 32\", \"Between 32 & 64\", \"Between 64 & 128\"]\n",
    "  sizes = [589, 19020, 518]\n",
    "  my_circle=plt.Circle( (0,0), 0.6, color='white')\n",
    "  fig = plt.figure(figsize=(8,8))\n",
    "  plt.pie(sizes, labels=categories, colors=['red','green','blue','skyblue'], shadow=True)\n",
    "  plt.title(\"Size range of train images\")\n",
    "  p=plt.gcf()\n",
    "  p.gca().add_artist(my_circle)\n",
    "  fig.show()\n",
    "data, labels = load_train_images()\n",
    "img_dims_donut_chart(data)"
   ]
  },
  {
   "cell_type": "code",
   "execution_count": 18,
   "id": "0e3ce23a",
   "metadata": {},
   "outputs": [],
   "source": []
  },
  {
   "cell_type": "code",
   "execution_count": null,
   "id": "0595acef",
   "metadata": {},
   "outputs": [],
   "source": []
  }
 ],
 "metadata": {
  "kernelspec": {
   "display_name": "Python 3 (ipykernel)",
   "language": "python",
   "name": "python3"
  },
  "language_info": {
   "codemirror_mode": {
    "name": "ipython",
    "version": 3
   },
   "file_extension": ".py",
   "mimetype": "text/x-python",
   "name": "python",
   "nbconvert_exporter": "python",
   "pygments_lexer": "ipython3",
   "version": "3.9.12"
  }
 },
 "nbformat": 4,
 "nbformat_minor": 5
}
